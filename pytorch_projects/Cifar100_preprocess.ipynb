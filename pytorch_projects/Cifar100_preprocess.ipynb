{
 "cells": [
  {
   "cell_type": "code",
   "execution_count": 163,
   "metadata": {},
   "outputs": [],
   "source": [
    "%matplotlib inline\n",
    "import pickle\n",
    "import os\n",
    "import png\n",
    "import numpy as np\n",
    "import pandas as pd\n",
    "import shutil\n",
    "from collections import OrderedDict"
   ]
  },
  {
   "cell_type": "code",
   "execution_count": 2,
   "metadata": {},
   "outputs": [
    {
     "data": {
      "text/plain": [
       "['test', 'meta', 'file.txt~', 'train']"
      ]
     },
     "execution_count": 2,
     "metadata": {},
     "output_type": "execute_result"
    }
   ],
   "source": [
    "rootpath = '/data/cifar100/cifar-100-python/'\n",
    "targetpath = '/data/cifar100/'\n",
    "os.listdir(rootpath)"
   ]
  },
  {
   "cell_type": "code",
   "execution_count": 186,
   "metadata": {},
   "outputs": [],
   "source": [
    "is_write_image = True\n",
    "dfs = dict()\n",
    "\n",
    "with open(os.path.join(rootpath,'meta'), 'rb') as f:\n",
    "    labels = pickle.load(f, encoding=\"ASCII\")\n",
    "    \n",
    "for datafile in ('train', 'test'):\n",
    "    path = os.path.join(rootpath, datafile)\n",
    "    \n",
    "    with open(path, 'rb') as f:\n",
    "        file = pickle.load(f, encoding='bytes')\n",
    "    \n",
    "    filenames = [f.decode('ASCII') for f in file[b'filenames']]\n",
    "    fine_labels = file[b'fine_labels']\n",
    "    coarse_labels = file[b'coarse_labels']\n",
    "    data = file[b'data']\n",
    "    \n",
    "    output_dir = os.path.join(targetpath, datafile)\n",
    "    os.makedirs(output_dir, exist_ok=True)\n",
    "    \n",
    "    df = pd.DataFrame(OrderedDict({'filenames': filenames,\n",
    "                               'coarse_labels': list(map(lambda i: labels['coarse_label_names'][i], coarse_labels)),\n",
    "                               'fine_labels': list(map(lambda i: labels['fine_label_names'][i], fine_labels))}))\n",
    "    dfs[datafile] = df\n",
    "    \n",
    "    #Write the image files\n",
    "    if is_write_image:\n",
    "        for i, filename in enumerate(filenames):\n",
    "            d = data[i].reshape((3,32,32)).transpose((1,2,0))\n",
    "            with open(os.path.join(output_dir, filename), 'wb') as f:\n",
    "                png.from_array(d, mode=\"RGB\").save(f)\n"
   ]
  },
  {
   "cell_type": "code",
   "execution_count": 189,
   "metadata": {},
   "outputs": [
    {
     "data": {
      "text/plain": [
       "(49999, 9999)"
      ]
     },
     "execution_count": 189,
     "metadata": {},
     "output_type": "execute_result"
    }
   ],
   "source": [
    "len(os.listdir(targetpath+'train')) , len(os.listdir(targetpath+'test'))"
   ]
  },
  {
   "cell_type": "code",
   "execution_count": 190,
   "metadata": {
    "scrolled": true
   },
   "outputs": [
    {
     "data": {
      "text/plain": [
       "((50000, 3), (10000, 3))"
      ]
     },
     "execution_count": 190,
     "metadata": {},
     "output_type": "execute_result"
    }
   ],
   "source": [
    "dfs['train'].shape, dfs['test'].shape"
   ]
  },
  {
   "cell_type": "code",
   "execution_count": 191,
   "metadata": {},
   "outputs": [],
   "source": [
    "is_combine = True\n",
    "output_dir = os.path.join(targetpath, 'train_full')\n",
    "\n",
    "if is_combine:\n",
    "    os.makedirs(output_dir, exist_ok=True)\n",
    "    for phase in ('train', 'test'):\n",
    "        phase_path = os.path.join(targetpath, phase)\n",
    "        for file in os.listdir(phase_path):\n",
    "            shutil.move(os.path.join(phase_path, file), os.path.join(output_dir, file))\n",
    "    \n",
    "    df = pd.concat([dfs['train'], dfs['test']])\n",
    "    df.to_csv(f'{targetpath}train_full.csv', compression=None, index=False)\n",
    "else:\n",
    "    dfs['train'].to_csv(f'{targetpath}train.csv', compression=None, index=False)\n",
    "    dfs['test'].to_csv(f'{targetpath}test.csv', compression=None, index=False)"
   ]
  },
  {
   "cell_type": "markdown",
   "metadata": {},
   "source": [
    "# Extract two class"
   ]
  },
  {
   "cell_type": "code",
   "execution_count": 227,
   "metadata": {},
   "outputs": [
    {
     "data": {
      "text/html": [
       "<div>\n",
       "<style scoped>\n",
       "    .dataframe tbody tr th:only-of-type {\n",
       "        vertical-align: middle;\n",
       "    }\n",
       "\n",
       "    .dataframe tbody tr th {\n",
       "        vertical-align: top;\n",
       "    }\n",
       "\n",
       "    .dataframe thead th {\n",
       "        text-align: right;\n",
       "    }\n",
       "</style>\n",
       "<table border=\"1\" class=\"dataframe\">\n",
       "  <thead>\n",
       "    <tr style=\"text-align: right;\">\n",
       "      <th></th>\n",
       "      <th>filenames</th>\n",
       "      <th>coarse_labels</th>\n",
       "      <th>fine_labels</th>\n",
       "    </tr>\n",
       "  </thead>\n",
       "  <tbody>\n",
       "    <tr>\n",
       "      <th>2</th>\n",
       "      <td>mcintosh_s_000643.png</td>\n",
       "      <td>fruit_and_vegetables</td>\n",
       "      <td>apple</td>\n",
       "    </tr>\n",
       "    <tr>\n",
       "      <th>176</th>\n",
       "      <td>macoun_s_000065.png</td>\n",
       "      <td>fruit_and_vegetables</td>\n",
       "      <td>apple</td>\n",
       "    </tr>\n",
       "    <tr>\n",
       "      <th>270</th>\n",
       "      <td>bartlett_pear_s_000454.png</td>\n",
       "      <td>fruit_and_vegetables</td>\n",
       "      <td>pear</td>\n",
       "    </tr>\n",
       "    <tr>\n",
       "      <th>283</th>\n",
       "      <td>bosc_s_000204.png</td>\n",
       "      <td>fruit_and_vegetables</td>\n",
       "      <td>pear</td>\n",
       "    </tr>\n",
       "    <tr>\n",
       "      <th>304</th>\n",
       "      <td>red_delicious_s_000552.png</td>\n",
       "      <td>fruit_and_vegetables</td>\n",
       "      <td>apple</td>\n",
       "    </tr>\n",
       "  </tbody>\n",
       "</table>\n",
       "</div>"
      ],
      "text/plain": [
       "                      filenames         coarse_labels fine_labels\n",
       "2         mcintosh_s_000643.png  fruit_and_vegetables       apple\n",
       "176         macoun_s_000065.png  fruit_and_vegetables       apple\n",
       "270  bartlett_pear_s_000454.png  fruit_and_vegetables        pear\n",
       "283           bosc_s_000204.png  fruit_and_vegetables        pear\n",
       "304  red_delicious_s_000552.png  fruit_and_vegetables       apple"
      ]
     },
     "execution_count": 227,
     "metadata": {},
     "output_type": "execute_result"
    }
   ],
   "source": [
    "df_apple_pear = df.loc[(df['fine_labels'] == 'apple') | (df['fine_labels'] == 'pear')]\n",
    "df_apple_pear.to_csv(f'{targetpath}apple_pear.csv', compression=None, index=False)\n",
    "df_apple_pear.head()"
   ]
  },
  {
   "cell_type": "code",
   "execution_count": 228,
   "metadata": {},
   "outputs": [],
   "source": [
    "filename_apple_pear = df_apple_pear['filenames'].tolist()\n",
    "\n",
    "src_path = os.path.join(targetpath, 'train_full')\n",
    "des_path = os.path.join(targetpath, 'apple_pear')\n",
    "\n",
    "os.makedirs(des_path, exist_ok=True)\n",
    "\n",
    "for f in filename_apple_pear:\n",
    "    shutil.copy(os.path.join(src_path, f), des_path)"
   ]
  }
 ],
 "metadata": {
  "kernelspec": {
   "display_name": "Python 3",
   "language": "python",
   "name": "python3"
  },
  "language_info": {
   "codemirror_mode": {
    "name": "ipython",
    "version": 3
   },
   "file_extension": ".py",
   "mimetype": "text/x-python",
   "name": "python",
   "nbconvert_exporter": "python",
   "pygments_lexer": "ipython3",
   "version": "3.6.4"
  }
 },
 "nbformat": 4,
 "nbformat_minor": 2
}
