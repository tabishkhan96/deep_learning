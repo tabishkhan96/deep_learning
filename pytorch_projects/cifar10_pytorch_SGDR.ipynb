{
 "cells": [
  {
   "cell_type": "code",
   "execution_count": 1,
   "metadata": {},
   "outputs": [],
   "source": [
    "%matplotlib inline\n",
    "import numpy as np\n",
    "import pandas as pd\n",
    "import matplotlib.pyplot as plt\n",
    "import os\n",
    "import sys\n",
    "import PIL\n",
    "import time\n",
    "from tqdm import tqdm, tnrange, tqdm_notebook\n",
    "\n",
    "import torch\n",
    "import torch.nn as nn\n",
    "import torch.nn.functional as F\n",
    "import torch.backends.cudnn as cudnn\n",
    "from torch import Tensor\n",
    "from torch.optim import lr_scheduler\n",
    "from torch.autograd import Variable\n",
    "from torch.utils.data import Dataset, DataLoader\n",
    "from torch.utils.data.dataset import random_split\n",
    "\n",
    "import torchvision\n",
    "from torchvision import transforms, datasets, models\n",
    "\n",
    "from mpl_toolkits.axes_grid1 import ImageGrid\n",
    "\n",
    "from senet import SENet18"
   ]
  },
  {
   "cell_type": "code",
   "execution_count": 2,
   "metadata": {},
   "outputs": [],
   "source": [
    "PATH='/data/cifar10_kaggle/'\n",
    "suffix='.png'"
   ]
  },
  {
   "cell_type": "code",
   "execution_count": 3,
   "metadata": {},
   "outputs": [
    {
     "data": {
      "text/plain": [
       "['test',\n",
       " 'test.7z',\n",
       " 'trainLabels.csv',\n",
       " 'sampleSubmission.csv',\n",
       " 'sub',\n",
       " 'weights',\n",
       " 'train.7z',\n",
       " 'train']"
      ]
     },
     "execution_count": 3,
     "metadata": {},
     "output_type": "execute_result"
    }
   ],
   "source": [
    "os.listdir(PATH)"
   ]
  },
  {
   "cell_type": "code",
   "execution_count": 4,
   "metadata": {},
   "outputs": [
    {
     "data": {
      "text/plain": [
       "['airplane',\n",
       " 'automobile',\n",
       " 'bird',\n",
       " 'cat',\n",
       " 'deer',\n",
       " 'dog',\n",
       " 'frog',\n",
       " 'horse',\n",
       " 'ship',\n",
       " 'truck']"
      ]
     },
     "execution_count": 4,
     "metadata": {},
     "output_type": "execute_result"
    }
   ],
   "source": [
    "labels = pd.read_csv(f'{PATH}trainLabels.csv')\n",
    "classes = sorted(list(set(labels['label'].tolist()))); classes"
   ]
  },
  {
   "cell_type": "code",
   "execution_count": 5,
   "metadata": {},
   "outputs": [],
   "source": [
    "# Pre-calculated\n",
    "mean, std = np.array([0.49139977, 0.4821584 , 0.4465309]), np.array([0.24703224, 0.24348513, 0.26158784])"
   ]
  },
  {
   "cell_type": "markdown",
   "metadata": {
    "heading_collapsed": true
   },
   "source": [
    "# Explore Data"
   ]
  },
  {
   "cell_type": "code",
   "execution_count": 6,
   "metadata": {
    "hidden": true
   },
   "outputs": [
    {
     "data": {
      "text/plain": [
       "(50000, 50000)"
      ]
     },
     "execution_count": 6,
     "metadata": {},
     "output_type": "execute_result"
    }
   ],
   "source": [
    "len(os.listdir(f'{PATH}train')), len(labels)"
   ]
  },
  {
   "cell_type": "code",
   "execution_count": 7,
   "metadata": {
    "hidden": true
   },
   "outputs": [
    {
     "data": {
      "text/html": [
       "<div>\n",
       "<style scoped>\n",
       "    .dataframe tbody tr th:only-of-type {\n",
       "        vertical-align: middle;\n",
       "    }\n",
       "\n",
       "    .dataframe tbody tr th {\n",
       "        vertical-align: top;\n",
       "    }\n",
       "\n",
       "    .dataframe thead th {\n",
       "        text-align: right;\n",
       "    }\n",
       "</style>\n",
       "<table border=\"1\" class=\"dataframe\">\n",
       "  <thead>\n",
       "    <tr style=\"text-align: right;\">\n",
       "      <th></th>\n",
       "      <th>id</th>\n",
       "      <th>label</th>\n",
       "    </tr>\n",
       "  </thead>\n",
       "  <tbody>\n",
       "    <tr>\n",
       "      <th>0</th>\n",
       "      <td>1</td>\n",
       "      <td>frog</td>\n",
       "    </tr>\n",
       "    <tr>\n",
       "      <th>1</th>\n",
       "      <td>2</td>\n",
       "      <td>truck</td>\n",
       "    </tr>\n",
       "    <tr>\n",
       "      <th>2</th>\n",
       "      <td>3</td>\n",
       "      <td>truck</td>\n",
       "    </tr>\n",
       "    <tr>\n",
       "      <th>3</th>\n",
       "      <td>4</td>\n",
       "      <td>deer</td>\n",
       "    </tr>\n",
       "    <tr>\n",
       "      <th>4</th>\n",
       "      <td>5</td>\n",
       "      <td>automobile</td>\n",
       "    </tr>\n",
       "  </tbody>\n",
       "</table>\n",
       "</div>"
      ],
      "text/plain": [
       "   id       label\n",
       "0   1        frog\n",
       "1   2       truck\n",
       "2   3       truck\n",
       "3   4        deer\n",
       "4   5  automobile"
      ]
     },
     "execution_count": 7,
     "metadata": {},
     "output_type": "execute_result"
    }
   ],
   "source": [
    "labels.head()"
   ]
  },
  {
   "cell_type": "code",
   "execution_count": 10,
   "metadata": {
    "hidden": true
   },
   "outputs": [],
   "source": [
    "classes = ('plane', 'car', 'bird', 'cat', 'deer', 'dog', 'frog', 'horse', 'ship', 'truck')\n",
    "num_classes = len(classes)\n",
    "selected_label_list = list(labels.groupby('label').count().sort_values(by='id', ascending=False).head(num_classes).index)"
   ]
  },
  {
   "cell_type": "code",
   "execution_count": 11,
   "metadata": {
    "hidden": true
   },
   "outputs": [
    {
     "data": {
      "text/plain": [
       "['airplane',\n",
       " 'automobile',\n",
       " 'bird',\n",
       " 'cat',\n",
       " 'deer',\n",
       " 'dog',\n",
       " 'frog',\n",
       " 'horse',\n",
       " 'ship',\n",
       " 'truck']"
      ]
     },
     "execution_count": 11,
     "metadata": {},
     "output_type": "execute_result"
    }
   ],
   "source": [
    "selected_label_list"
   ]
  },
  {
   "cell_type": "code",
   "execution_count": 12,
   "metadata": {
    "hidden": true
   },
   "outputs": [],
   "source": [
    "labels = labels[labels['label'].isin(selected_label_list)]"
   ]
  },
  {
   "cell_type": "code",
   "execution_count": 13,
   "metadata": {
    "hidden": true
   },
   "outputs": [],
   "source": [
    "labels['target'] = 1"
   ]
  },
  {
   "cell_type": "code",
   "execution_count": 14,
   "metadata": {
    "hidden": true
   },
   "outputs": [],
   "source": [
    "labels['rank'] = labels.groupby('label').rank()['id']"
   ]
  },
  {
   "cell_type": "code",
   "execution_count": 15,
   "metadata": {
    "hidden": true
   },
   "outputs": [],
   "source": [
    "labels_pivot = labels.pivot('id', 'label', 'target').reset_index().fillna(0)"
   ]
  },
  {
   "cell_type": "code",
   "execution_count": 16,
   "metadata": {
    "hidden": true
   },
   "outputs": [],
   "source": [
    "train = labels_pivot.sample(frac=0.8)"
   ]
  },
  {
   "cell_type": "code",
   "execution_count": 17,
   "metadata": {
    "hidden": true
   },
   "outputs": [
    {
     "data": {
      "text/html": [
       "<div>\n",
       "<style scoped>\n",
       "    .dataframe tbody tr th:only-of-type {\n",
       "        vertical-align: middle;\n",
       "    }\n",
       "\n",
       "    .dataframe tbody tr th {\n",
       "        vertical-align: top;\n",
       "    }\n",
       "\n",
       "    .dataframe thead th {\n",
       "        text-align: right;\n",
       "    }\n",
       "</style>\n",
       "<table border=\"1\" class=\"dataframe\">\n",
       "  <thead>\n",
       "    <tr style=\"text-align: right;\">\n",
       "      <th>label</th>\n",
       "      <th>id</th>\n",
       "      <th>airplane</th>\n",
       "      <th>automobile</th>\n",
       "      <th>bird</th>\n",
       "      <th>cat</th>\n",
       "      <th>deer</th>\n",
       "      <th>dog</th>\n",
       "      <th>frog</th>\n",
       "      <th>horse</th>\n",
       "      <th>ship</th>\n",
       "      <th>truck</th>\n",
       "    </tr>\n",
       "  </thead>\n",
       "  <tbody>\n",
       "    <tr>\n",
       "      <th>0</th>\n",
       "      <td>1</td>\n",
       "      <td>0.0</td>\n",
       "      <td>0.0</td>\n",
       "      <td>0.0</td>\n",
       "      <td>0.0</td>\n",
       "      <td>0.0</td>\n",
       "      <td>0.0</td>\n",
       "      <td>1.0</td>\n",
       "      <td>0.0</td>\n",
       "      <td>0.0</td>\n",
       "      <td>0.0</td>\n",
       "    </tr>\n",
       "    <tr>\n",
       "      <th>1</th>\n",
       "      <td>2</td>\n",
       "      <td>0.0</td>\n",
       "      <td>0.0</td>\n",
       "      <td>0.0</td>\n",
       "      <td>0.0</td>\n",
       "      <td>0.0</td>\n",
       "      <td>0.0</td>\n",
       "      <td>0.0</td>\n",
       "      <td>0.0</td>\n",
       "      <td>0.0</td>\n",
       "      <td>1.0</td>\n",
       "    </tr>\n",
       "    <tr>\n",
       "      <th>2</th>\n",
       "      <td>3</td>\n",
       "      <td>0.0</td>\n",
       "      <td>0.0</td>\n",
       "      <td>0.0</td>\n",
       "      <td>0.0</td>\n",
       "      <td>0.0</td>\n",
       "      <td>0.0</td>\n",
       "      <td>0.0</td>\n",
       "      <td>0.0</td>\n",
       "      <td>0.0</td>\n",
       "      <td>1.0</td>\n",
       "    </tr>\n",
       "    <tr>\n",
       "      <th>3</th>\n",
       "      <td>4</td>\n",
       "      <td>0.0</td>\n",
       "      <td>0.0</td>\n",
       "      <td>0.0</td>\n",
       "      <td>0.0</td>\n",
       "      <td>1.0</td>\n",
       "      <td>0.0</td>\n",
       "      <td>0.0</td>\n",
       "      <td>0.0</td>\n",
       "      <td>0.0</td>\n",
       "      <td>0.0</td>\n",
       "    </tr>\n",
       "    <tr>\n",
       "      <th>4</th>\n",
       "      <td>5</td>\n",
       "      <td>0.0</td>\n",
       "      <td>1.0</td>\n",
       "      <td>0.0</td>\n",
       "      <td>0.0</td>\n",
       "      <td>0.0</td>\n",
       "      <td>0.0</td>\n",
       "      <td>0.0</td>\n",
       "      <td>0.0</td>\n",
       "      <td>0.0</td>\n",
       "      <td>0.0</td>\n",
       "    </tr>\n",
       "  </tbody>\n",
       "</table>\n",
       "</div>"
      ],
      "text/plain": [
       "label  id  airplane  automobile  bird  cat  deer  dog  frog  horse  ship  \\\n",
       "0       1       0.0         0.0   0.0  0.0   0.0  0.0   1.0    0.0   0.0   \n",
       "1       2       0.0         0.0   0.0  0.0   0.0  0.0   0.0    0.0   0.0   \n",
       "2       3       0.0         0.0   0.0  0.0   0.0  0.0   0.0    0.0   0.0   \n",
       "3       4       0.0         0.0   0.0  0.0   1.0  0.0   0.0    0.0   0.0   \n",
       "4       5       0.0         1.0   0.0  0.0   0.0  0.0   0.0    0.0   0.0   \n",
       "\n",
       "label  truck  \n",
       "0        0.0  \n",
       "1        1.0  \n",
       "2        1.0  \n",
       "3        0.0  \n",
       "4        0.0  "
      ]
     },
     "execution_count": 17,
     "metadata": {},
     "output_type": "execute_result"
    }
   ],
   "source": [
    "labels_pivot.head()"
   ]
  },
  {
   "cell_type": "code",
   "execution_count": 18,
   "metadata": {
    "hidden": true
   },
   "outputs": [
    {
     "data": {
      "text/plain": [
       "(array([0., 0., 0., 0., 1., 0., 0., 0., 0., 0.]), 4)"
      ]
     },
     "execution_count": 18,
     "metadata": {},
     "output_type": "execute_result"
    }
   ],
   "source": [
    "labels_pivot.iloc[3, 1:].as_matrix().astype('float'), np.argmax(labels_pivot.iloc[3, 1:].as_matrix().astype('float'))"
   ]
  },
  {
   "cell_type": "code",
   "execution_count": 20,
   "metadata": {
    "hidden": true
   },
   "outputs": [],
   "source": [
    "image_name = f'{PATH}train/{labels.iloc[12, 0]}{suffix}'"
   ]
  },
  {
   "cell_type": "code",
   "execution_count": 21,
   "metadata": {
    "hidden": true
   },
   "outputs": [
    {
     "data": {
      "text/plain": [
       "'/data/cifar10_kaggle/train/13.png'"
      ]
     },
     "execution_count": 21,
     "metadata": {},
     "output_type": "execute_result"
    }
   ],
   "source": [
    "image_name"
   ]
  },
  {
   "cell_type": "code",
   "execution_count": 22,
   "metadata": {
    "hidden": true
   },
   "outputs": [
    {
     "data": {
      "image/png": "[encoded data removed]",
      "text/plain": [
       "<PIL.PngImagePlugin.PngImageFile image mode=RGB size=32x32 at 0x7F99DA808C88>"
      ]
     },
     "execution_count": 22,
     "metadata": {},
     "output_type": "execute_result"
    }
   ],
   "source": [
    "image = PIL.Image.open(image_name); image"
   ]
  },
  {
   "cell_type": "markdown",
   "metadata": {},
   "source": [
    "# Define CIFAR10 Dataset"
   ]
  },
  {
   "cell_type": "code",
   "execution_count": 6,
   "metadata": {},
   "outputs": [],
   "source": [
    "class CIFARDataset(Dataset):\n",
    "    def __init__(self, labels, data_dir, transform=None):\n",
    "        self.labels = labels\n",
    "        self.data_dir = data_dir\n",
    "        self.transform = transform\n",
    "        classes = sorted(list(set(labels['label'].tolist())));\n",
    "        self.class2idx = {k:i for i, k in enumerate(classes)}\n",
    "        \n",
    "    def __len__(self):\n",
    "        return len(self.labels)\n",
    "    \n",
    "    def __getitem__(self, idx):\n",
    "        image_path = f'{self.data_dir}/{self.labels.iloc[idx, 0]}{suffix}'\n",
    "        image = PIL.Image.open(image_path)\n",
    "        labels = self.class2idx[self.labels.iloc[idx, 1]]\n",
    "        if self.transform:\n",
    "            image = self.transform(image)\n",
    "        return [image, labels]\n",
    "           "
   ]
  },
  {
   "cell_type": "code",
   "execution_count": 7,
   "metadata": {},
   "outputs": [],
   "source": [
    "class CIFARTestDataset(Dataset):\n",
    "    def __init__(self, data_dir, transform=None):\n",
    "        self.data_dir = data_dir\n",
    "        self.transform = transform\n",
    "        self.data_files_list = [f for f in os.listdir(f'{self.data_dir}') if os.path.isfile(os.path.join(f'{self.data_dir}', f))]\n",
    "        \n",
    "    def __len__(self):\n",
    "        return len(self.data_files_list)\n",
    "    \n",
    "    def __getitem__(self, idx):\n",
    "        image_path = os.path.join(f'{self.data_dir}', self.data_files_list[idx])\n",
    "        image = PIL.Image.open(image_path)\n",
    "        if self.transform:\n",
    "            image = self.transform(image)\n",
    "        return image\n",
    "    \n",
    "    @property\n",
    "    def filenames(self):\n",
    "        return self.data_files_list\n",
    "        "
   ]
  },
  {
   "cell_type": "markdown",
   "metadata": {
    "heading_collapsed": true
   },
   "source": [
    "# Find dataset mean/std"
   ]
  },
  {
   "cell_type": "code",
   "execution_count": 6,
   "metadata": {
    "hidden": true
   },
   "outputs": [],
   "source": [
    "train_ds = CIFARDataset(labels, f'{PATH}train', transform=transforms.ToTensor())\n",
    "train_dl = DataLoader(train_ds, batch_size=100, shuffle=True, num_workers=4)"
   ]
  },
  {
   "cell_type": "code",
   "execution_count": 7,
   "metadata": {
    "hidden": true
   },
   "outputs": [],
   "source": [
    "def getMeanStd(dataset, sz, bs):\n",
    "    dl = DataLoader(dataset, batch_size=bs, shuffle=True, num_workers=4)\n",
    "    itr = iter(dl)\n",
    "    sum = 0\n",
    "    for X,Y in itr:\n",
    "        sum = sum + np.sum(X.numpy(), axis=(0,2,3))\n",
    "    mean = sum / (sz*sz*len(dataset))\n",
    "    std_sum = 0;\n",
    "    for X,Y in iter(dl):\n",
    "        xt = np.transpose(X.numpy(), axes=(0,2,3,1));\n",
    "        std_sum = std_sum + np.sum((xt-mean)**2, axis=(0,1,2))\n",
    "    std = np.sqrt(std_sum / (sz*sz*len(dataset)))\n",
    "    return mean, std"
   ]
  },
  {
   "cell_type": "code",
   "execution_count": 8,
   "metadata": {
    "hidden": true
   },
   "outputs": [
    {
     "data": {
      "text/plain": [
       "(array([0.49139977, 0.4821584 , 0.4465309 ]),\n",
       " array([0.24703224, 0.24348513, 0.26158784]))"
      ]
     },
     "execution_count": 8,
     "metadata": {},
     "output_type": "execute_result"
    }
   ],
   "source": [
    "mean, std = getMeanStd(train_ds, 32, 100); mean, std"
   ]
  },
  {
   "cell_type": "markdown",
   "metadata": {},
   "source": [
    "# Create Dataloader"
   ]
  },
  {
   "cell_type": "code",
   "execution_count": 8,
   "metadata": {},
   "outputs": [],
   "source": [
    "def getTransforms(sz,  mean, std, aug=False):\n",
    "    normalize = transforms.Normalize(\n",
    "       mean=mean,\n",
    "       std=std\n",
    "    )\n",
    "    if aug==True:\n",
    "        ds_trans = transforms.Compose([transforms.Resize(sz),\n",
    "                                       transforms.RandomCrop(sz, sz//8),\n",
    "                                       transforms.RandomHorizontalFlip(),\n",
    "                                       transforms.ToTensor(),\n",
    "                                       normalize])\n",
    "    else:\n",
    "        ds_trans = transforms.Compose([transforms.Resize(sz),\n",
    "                                       transforms.ToTensor(),\n",
    "                                       normalize])\n",
    "    return ds_trans\n",
    "\n",
    "def getDataLoader(dataset, bs):\n",
    "    return DataLoader(dataset, batch_size=bs, shuffle=True, num_workers=4)"
   ]
  },
  {
   "cell_type": "code",
   "execution_count": 9,
   "metadata": {},
   "outputs": [
    {
     "data": {
      "text/plain": [
       "(40000, 10000)"
      ]
     },
     "execution_count": 9,
     "metadata": {},
     "output_type": "execute_result"
    }
   ],
   "source": [
    "sz = 32\n",
    "bs = 128\n",
    "\n",
    "data_labels = pd.read_csv(f'{PATH}trainLabels.csv')\n",
    "train_labels = data_labels.sample(frac=0.8,random_state=200)\n",
    "valid_labels = data_labels.drop(train_labels.index)\n",
    "\n",
    "train_ds = CIFARDataset(train_labels, f'{PATH}train', transform=getTransforms(sz, mean, std, aug=True))\n",
    "valid_ds = CIFARDataset(valid_labels, f'{PATH}train', transform=getTransforms(sz, mean, std))\n",
    "test_ds = CIFARTestDataset(f'{PATH}test', transform=getTransforms(sz, mean, std))\n",
    "\n",
    "train_dl = DataLoader(train_ds, batch_size=bs, shuffle=True, num_workers=4)\n",
    "valid_dl = DataLoader(valid_ds, batch_size=bs, shuffle=True, num_workers=4)\n",
    "test_dl = DataLoader(test_ds, batch_size=bs, shuffle=False, num_workers=4)\n",
    "\n",
    "len(train_labels), len(valid_labels)"
   ]
  },
  {
   "cell_type": "markdown",
   "metadata": {
    "heading_collapsed": true
   },
   "source": [
    "# Examine the images"
   ]
  },
  {
   "cell_type": "code",
   "execution_count": 27,
   "metadata": {
    "hidden": true
   },
   "outputs": [],
   "source": [
    "img, Y = next(iter(train_dl))"
   ]
  },
  {
   "cell_type": "code",
   "execution_count": 28,
   "metadata": {
    "hidden": true
   },
   "outputs": [
    {
     "name": "stdout",
     "output_type": "stream",
     "text": [
      "torch.Size([128, 3, 32, 32]) torch.Size([128])\n"
     ]
    }
   ],
   "source": [
    "print(img.size(), Y.size())"
   ]
  },
  {
   "cell_type": "code",
   "execution_count": 29,
   "metadata": {
    "hidden": true
   },
   "outputs": [],
   "source": [
    "def imshow(axis, inp):\n",
    "    \"\"\"Denormalize and show\"\"\"\n",
    "    inp = inp.numpy().transpose((1, 2, 0))\n",
    "    mean = np.array([0.485, 0.456, 0.406])\n",
    "    std = np.array([0.229, 0.224, 0.225])\n",
    "    inp = std * inp + mean\n",
    "    axis.imshow(inp)"
   ]
  },
  {
   "cell_type": "code",
   "execution_count": 37,
   "metadata": {
    "hidden": true
   },
   "outputs": [
    {
     "name": "stdout",
     "output_type": "stream",
     "text": [
      "torch.Size([128, 3, 32, 32]) torch.Size([128])\n"
     ]
    },
    {
     "data": {
      "image/png": "[encoded data removed]",
      "text/plain": [
       "<Figure size 1152x360 with 10 Axes>"
      ]
     },
     "metadata": {},
     "output_type": "display_data"
    }
   ],
   "source": [
    "img, label = next(iter(train_dl))\n",
    "print(img.size(), label.size())\n",
    "fig = plt.figure(1, figsize=(16, 5))\n",
    "grid = ImageGrid(fig, 111, nrows_ncols=(1, 5), axes_pad=0.05)    \n",
    "for i in range(5):\n",
    "    ax = grid[i]\n",
    "    imshow(ax, img[i])\n",
    "    #ax.imshow(img[i].numpy().transpose((1, 2, 0)))\n",
    "    "
   ]
  },
  {
   "cell_type": "markdown",
   "metadata": {
    "heading_collapsed": true
   },
   "source": [
    "# SGDR - First version(Pack everything into a single function)"
   ]
  },
  {
   "cell_type": "markdown",
   "metadata": {
    "hidden": true
   },
   "source": [
    "The purpose of this section is to get a general idea of how all the pytorch components fit together to make things happen. I kept everything including the loops, learning rate changes, calculations in a single function. Hopefully, by showing these step in plain sight without the need of tracing the procedures through layers of abstraction, it will looks less intimidating as than it should look."
   ]
  },
  {
   "cell_type": "code",
   "execution_count": 10,
   "metadata": {
    "hidden": true
   },
   "outputs": [],
   "source": [
    "def get_learning_rate(optimizer):\n",
    "    lr=[]\n",
    "    for param_group in optimizer.param_groups:\n",
    "       lr +=[ param_group['lr'] ]\n",
    "    return lr"
   ]
  },
  {
   "cell_type": "markdown",
   "metadata": {
    "hidden": true
   },
   "source": [
    "We are going to use the \"lambdaLR\" class from \"torch.optim\" to implement cosine annealing of the learning rate as well as the restarts. The period(cycle_len) is calculated by finding the inverse of the geometric progression sum given the number of batch iterations that have ran. The lambda scheduler.step() should be called in the most inner loop that iterates through the batch iterations.\n",
    "\n",
    "P.S. Since the scheduler class has no reset functionality, the initial goal was to avoid re-creating a scheduler every cycle by making a scheduler that could be placed in a loop and works. I later realized this has make it way more complicated than it should look. Maybe I'll write a new scheduler class on next version"
   ]
  },
  {
   "cell_type": "code",
   "execution_count": 11,
   "metadata": {
    "hidden": true
   },
   "outputs": [],
   "source": [
    "def numpy_log(x, base):\n",
    "    return np.log(x)/np.log(base)\n",
    "\n",
    "def getCosineAnnealingLambda(cycle_len, cycle_mult=1):\n",
    "    if cycle_mult == 1:\n",
    "        return lambda i: 1 / 2 * (1 + np.cos(np.pi*(i % cycle_len) / cycle_len))\n",
    "    \n",
    "    power = lambda i: np.floor(numpy_log((i)/cycle_len*(cycle_mult-1)+1, cycle_mult))\n",
    "    period = lambda i: cycle_len * (cycle_mult ** power(i))\n",
    "    psum = lambda i: cycle_len*(cycle_mult**(power(i))-1)/(cycle_mult-1)\n",
    "    current = lambda i:  (1 + (i-psum(i)-1)) % period(i)\n",
    "    getLr = lambda i: 1 / 2 * (1 + np.cos(np.pi*current(i) / period(i)))\n",
    "    return getLr\n"
   ]
  },
  {
   "cell_type": "code",
   "execution_count": 12,
   "metadata": {
    "hidden": true
   },
   "outputs": [],
   "source": [
    "def train_cos_anneal_model(dataloaders, model, criterion, optimizer, bs, num_cycle, cycle_len=1, cycle_mult=1):\n",
    "    since = time.time()\n",
    "    use_gpu = torch.cuda.is_available()\n",
    "    best_model_wts = model.state_dict()\n",
    "    \n",
    "    dataset_sizes = { 'train': len(dataloaders['train'].dataset),\n",
    "                      'valid': len(dataloaders['valid'].dataset)}\n",
    "    \n",
    "    recorder = { 'train_loss': [],\n",
    "                 'valid_loss': [],\n",
    "                 'train_epoch_loss': [],\n",
    "                 'valid_epoch_loss': [],\n",
    "                 'train_epoch_acc': [],\n",
    "                 'valid_epoch_acc': [],\n",
    "                 'lr': []}\n",
    "    \n",
    "    epoch = 0\n",
    "    \n",
    "    iter_per_train_epoch = np.ceil(dataset_sizes['train'] / dataloaders['train'].batch_size)\n",
    "    \n",
    "    cos_lambda_scheduler = lr_scheduler.LambdaLR(optimizer, lr_lambda=getCosineAnnealingLambda(iter_per_train_epoch*cycle_len, cycle_mult))\n",
    "    cos_lambda_scheduler.step()\n",
    "    lrs = []\n",
    "    \n",
    "    for cycle in range(num_cycle):\n",
    "        for cycle_epoch in range(cycle_len*cycle_mult**cycle):\n",
    "            for phase in ['train', 'valid']:\n",
    "                if phase == 'train':\n",
    "                    model.train(True)\n",
    "                else:\n",
    "                    model.train(False)\n",
    "\n",
    "                running_loss = 0.0\n",
    "                running_corrects = 0\n",
    "                running_data_size = 0\n",
    "                running_train_loss = 0.0\n",
    "                running_valid_loss = 0.0\n",
    "                running_train_acc = 0.0\n",
    "                running_valid_acc = 0.0\n",
    "                    \n",
    "                pbar = tqdm(dataloaders[phase], leave=True, desc='Epoch:[{}]|{}|'.format(epoch, phase))\n",
    "                for inputs, labels in pbar:\n",
    "                    if use_gpu:\n",
    "                        inputs, labels = Variable(inputs.cuda()), Variable(labels.cuda())\n",
    "                    else:\n",
    "                        inputs, labels = Variable(inputs), Variable(labels)\n",
    "                        \n",
    "                    optimizer.zero_grad()\n",
    "                    \n",
    "                    outputs = model(inputs)\n",
    "                    _, preds = torch.max(outputs.data, 1)\n",
    "                    loss = criterion(outputs, labels)\n",
    "                    \n",
    "                    if phase == 'train':\n",
    "                        recorder['lr'].append(cos_lambda_scheduler.get_lr( ))\n",
    "                        \n",
    "                        loss.backward()\n",
    "                        optimizer.step()\n",
    "                        cos_lambda_scheduler.step()\n",
    "                        \n",
    "                    running_loss += loss.data[0]\n",
    "                    running_corrects += torch.sum(preds == labels.data)\n",
    "                    \n",
    "                    running_data_size += inputs.data.size(0)\n",
    "                    if phase == 'train':\n",
    "                        running_train_loss = running_loss / running_data_size\n",
    "                        running_train_acc = running_corrects / running_data_size\n",
    "                        recorder['train_loss'].append(running_train_loss)\n",
    "                        pbar.set_postfix_str('Train Loss: {:.4f}, Train Acc: {:.4f}'\n",
    "                                             .format(running_train_loss, running_train_acc))\n",
    "                    else:\n",
    "                        running_valid_loss = running_loss / running_data_size\n",
    "                        running_valid_acc = running_corrects / running_data_size\n",
    "                        recorder['valid_loss'].append(running_valid_loss)\n",
    "                        pbar.set_postfix_str('Valid Loss: {:.4f}, Valid Acc: {:.4f}'\n",
    "                                             .format(running_valid_loss, running_valid_acc))\n",
    "\n",
    "                    \n",
    "                if phase == 'train':\n",
    "                    recorder['train_epoch_loss'].append(running_loss / dataset_sizes[phase])\n",
    "                    recorder['train_epoch_acc'].append(running_corrects / dataset_sizes[phase])\n",
    "                else:\n",
    "                    recorder['valid_epoch_loss'].append(running_loss / dataset_sizes[phase])\n",
    "                    recorder['valid_epoch_acc'].append(running_corrects / dataset_sizes[phase])\n",
    "       \n",
    "            \n",
    "            epoch += 1\n",
    "    print('{:5s}  {:5s}  {:10s}  {:9s}  {:10s}  {:9s}'\n",
    "          .format('Cycle', 'Epoch', 'Train_Loss', 'Train_Acc', 'Valid_Loss', 'Valid_Acc'))\n",
    "    for e in range(epoch):\n",
    "        print('{:5d}  {:5d}  {:10.7f}  {:9.7f}  {:10.7f}  {:9.7f}'.format(\n",
    "                    cycle, e,\n",
    "                    recorder['train_epoch_loss'][e], recorder['train_epoch_acc'][e], \n",
    "                    recorder['valid_epoch_loss'][e], recorder['valid_epoch_acc'][e]))        \n",
    "    return model, recorder;\n",
    "    #return lrs"
   ]
  },
  {
   "cell_type": "code",
   "execution_count": 13,
   "metadata": {
    "hidden": true
   },
   "outputs": [],
   "source": [
    "arch = SENet18().cuda()"
   ]
  },
  {
   "cell_type": "code",
   "execution_count": 14,
   "metadata": {
    "hidden": true
   },
   "outputs": [],
   "source": [
    "#load pre-trained weights, skip if it doesnt exist\n",
    "p =  f'{PATH}weights/cifar10_snet_1.pt'\n",
    "pretrained_weights = torch.load(p, map_location=lambda storage, loc: storage)\n",
    "arch.load_state_dict(pretrained_weights)"
   ]
  },
  {
   "cell_type": "code",
   "execution_count": 15,
   "metadata": {
    "hidden": true
   },
   "outputs": [],
   "source": [
    "lr = 1e-2\n",
    "wd = 5e-4\n",
    "\n",
    "criterion = torch.nn.NLLLoss()\n",
    "optimizer = torch.optim.SGD(arch.parameters(), lr=lr, momentum=0.9, weight_decay=wd)\n",
    "dloaders = {'train':train_dl, 'valid':valid_dl}"
   ]
  },
  {
   "cell_type": "code",
   "execution_count": 16,
   "metadata": {
    "hidden": true,
    "scrolled": false
   },
   "outputs": [
    {
     "name": "stderr",
     "output_type": "stream",
     "text": [
      "Epoch:[0]|train|: 100%|██████████| 313/313 [02:42<00:00,  1.93it/s, Train Loss: 0.0001, Train Acc: 0.9947]\n",
      "Epoch:[0]|valid|: 100%|██████████| 79/79 [00:35<00:00,  2.26it/s, Valid Loss: 0.0022, Valid Acc: 0.9310]\n",
      "Epoch:[1]|train|: 100%|██████████| 313/313 [00:27<00:00, 11.20it/s, Train Loss: 0.0004, Train Acc: 0.9847]\n",
      "Epoch:[1]|valid|: 100%|██████████| 79/79 [00:02<00:00, 33.71it/s, Valid Loss: 0.0025, Valid Acc: 0.9170]\n",
      "Epoch:[2]|train|: 100%|██████████| 313/313 [00:28<00:00, 11.11it/s, Train Loss: 0.0001, Train Acc: 0.9968]\n",
      "Epoch:[2]|valid|: 100%|██████████| 79/79 [00:02<00:00, 34.24it/s, Valid Loss: 0.0022, Valid Acc: 0.9298]"
     ]
    },
    {
     "name": "stdout",
     "output_type": "stream",
     "text": [
      "Cycle  Epoch  Train_Loss  Train_Acc  Valid_Loss  Valid_Acc\n",
      "    1      0   0.0001290  0.9947250   0.0021675  0.9310000\n",
      "    1      1   0.0003525  0.9847000   0.0025255  0.9170000\n",
      "    1      2   0.0000963  0.9968000   0.0021596  0.9298000\n"
     ]
    },
    {
     "name": "stderr",
     "output_type": "stream",
     "text": [
      "\n"
     ]
    }
   ],
   "source": [
    "arch, recorder = train_cos_anneal_model(dloaders, arch, criterion, optimizer, 128, 2, cycle_len=1, cycle_mult=2 )"
   ]
  },
  {
   "cell_type": "code",
   "execution_count": 17,
   "metadata": {
    "hidden": true
   },
   "outputs": [],
   "source": [
    "os.listdir(f'{PATH}weights')\n",
    "torch.save(arch.state_dict(), f'{PATH}weights/cifar10_snet_1.pt')"
   ]
  },
  {
   "cell_type": "code",
   "execution_count": 18,
   "metadata": {
    "hidden": true
   },
   "outputs": [
    {
     "data": {
      "text/plain": [
       "[<matplotlib.lines.Line2D at 0x7fa22397e7b8>]"
      ]
     },
     "execution_count": 18,
     "metadata": {},
     "output_type": "execute_result"
    },
    {
     "data": {
      "image/png": "[encoded data removed]",
      "text/plain": [
       "<Figure size 432x288 with 1 Axes>"
      ]
     },
     "metadata": {},
     "output_type": "display_data"
    }
   ],
   "source": [
    "fig = plt.figure()\n",
    "plt.xlabel(\"iterations\")\n",
    "plt.ylabel(\"learning rate\")\n",
    "plt.plot(np.arange(0, len(recorder['lr']),1), recorder['lr'])"
   ]
  },
  {
   "cell_type": "code",
   "execution_count": 19,
   "metadata": {
    "hidden": true
   },
   "outputs": [
    {
     "data": {
      "text/plain": [
       "[<matplotlib.lines.Line2D at 0x7fa223902eb8>]"
      ]
     },
     "execution_count": 19,
     "metadata": {},
     "output_type": "execute_result"
    },
    {
     "data": {
      "image/png": "[encoded data removed]",
      "text/plain": [
       "<Figure size 432x288 with 1 Axes>"
      ]
     },
     "metadata": {},
     "output_type": "display_data"
    }
   ],
   "source": [
    "fig = plt.figure()\n",
    "plt.xlabel(\"iterations\")\n",
    "plt.ylabel(\"Loss\")\n",
    "plt.plot(np.arange(0, len(recorder['valid_loss']),1), recorder['valid_loss'])"
   ]
  },
  {
   "cell_type": "code",
   "execution_count": 20,
   "metadata": {
    "hidden": true
   },
   "outputs": [
    {
     "data": {
      "text/plain": [
       "[<matplotlib.lines.Line2D at 0x7fa223862d68>]"
      ]
     },
     "execution_count": 20,
     "metadata": {},
     "output_type": "execute_result"
    },
    {
     "data": {
      "image/png": "[encoded data removed]",
      "text/plain": [
       "<Figure size 432x288 with 1 Axes>"
      ]
     },
     "metadata": {},
     "output_type": "display_data"
    }
   ],
   "source": [
    "fig = plt.figure()\n",
    "plt.xlabel(\"iterations\")\n",
    "plt.ylabel(\"Loss\")\n",
    "plt.plot(np.arange(0, len(recorder['train_loss']),1), recorder['train_loss'])"
   ]
  },
  {
   "cell_type": "markdown",
   "metadata": {},
   "source": [
    "# Abstract SGDR into a class"
   ]
  },
  {
   "cell_type": "code",
   "execution_count": 10,
   "metadata": {},
   "outputs": [],
   "source": [
    "def numpy_log(x, base):\n",
    "    return np.log(x)/np.log(base)\n",
    "\n",
    "class Data:\n",
    "    def __init__(self, train_dl, valid_dl, test_dl=None, bs=1):\n",
    "        self.train_dl = train_dl\n",
    "        self.valid_dl = valid_dl\n",
    "        self.test_dl = test_dl;\n",
    "        self.bs = bs\n",
    "\n",
    "def get_data(df, train_dir, sz, bs, test_dir=None, frac=0.8, rnd_seed=200):\n",
    "    train_labels = data_labels.sample(frac=frac,random_state=rnd_seed)\n",
    "    valid_labels = data_labels.drop(train_labels.index)\n",
    "\n",
    "    train_ds = CIFARDataset(train_labels, f'{PATH}train', transform=getTransforms(sz, mean, std, aug=True))\n",
    "    valid_ds = CIFARDataset(valid_labels, f'{PATH}train', transform=getTransforms(sz, mean, std))\n",
    "    test_ds = CIFARTestDataset(f'{PATH}test', transform=getTransforms(sz, mean, std))\n",
    "\n",
    "    train_dl = DataLoader(train_ds, batch_size=bs, shuffle=True, num_workers=4)\n",
    "    valid_dl = DataLoader(valid_ds, batch_size=bs, shuffle=True, num_workers=4)\n",
    "    \n",
    "    if test_dir:\n",
    "        test_ds = CIFARTestDataset(test_dir, transform=getTransforms(sz, mean, std))\n",
    "        test_dl = DataLoader(test_ds, batch_size=bs, shuffle=False, num_workers=4)\n",
    "    \n",
    "    return Data(train_dl, valid_dl, test_dl, bs)"
   ]
  },
  {
   "cell_type": "code",
   "execution_count": 11,
   "metadata": {},
   "outputs": [],
   "source": [
    "class Recorder:\n",
    "    \n",
    "    def __init__(self):\n",
    "        self.acc_loss = 0.0\n",
    "        self.acc_corrects = 0.0\n",
    "        self.acc_datasize = 0.0\n",
    "        self.current_loss = []\n",
    "        self.current_corrects = []\n",
    "        self.lr = []\n",
    "        self.model_snapshots = []\n",
    "        \n",
    "        self.batch_count = 0\n",
    "        \n",
    "    def on_batch_end(self, batch_loss, batch_corrects, batch_datasize, lr):\n",
    "        self.acc_loss += batch_loss\n",
    "        self.acc_corrects += batch_corrects\n",
    "        self.acc_datasize += batch_datasize\n",
    "        \n",
    "        self.current_loss.append(self.acc_loss / self.acc_datasize)\n",
    "        self.current_corrects.append(self.acc_corrects / self.acc_datasize)\n",
    "        self.lr.append(lr)\n",
    "        \n",
    "        self.batch_count += 1\n",
    "        \n",
    "    def on_epoch_end(self):\n",
    "        self.acc_loss = 0.0\n",
    "        self.acc_corrects = 0.0\n",
    "        self.acc_datasize = 0.0\n",
    "        \n",
    "    def on_cycle_end(self, model):\n",
    "        iteration = self.batch_count - 1\n",
    "        self.model_snapshots.append({'iteration': iteration,\n",
    "                                     'loss': self.current_loss[iteration],\n",
    "                                     'accuracy': self.current_corrects[iteration],\n",
    "                                     'state_dict': model.state_dict()                                    \n",
    "                                    })\n",
    "\n",
    "\n",
    "class Learner:\n",
    "    \n",
    "    def __init__(self, model, data=None):\n",
    "        self.model = model\n",
    "        self.data = data\n",
    "        \n",
    "    def set_data(self, data):\n",
    "        self.data = data;\n",
    "        \n",
    "    def save_model(self, fullPath):\n",
    "        torch.save(self.model.state_dict(), fullPath)\n",
    "        \n",
    "    def load_model(self, fullPath):\n",
    "        weights = torch.load(fullPath, map_location=lambda storage, loc: storage)\n",
    "        self.model.load_state_dict(weights)\n",
    "        \n",
    "    def fit(self, lr, num_cycle, wd=0, momentum=0, cycle_len=None, cycle_mult=1):\n",
    "        criterion = torch.nn.NLLLoss()\n",
    "        optimizer = torch.optim.SGD(self.model.parameters(), lr, weight_decay=wd, momentum=momentum)\n",
    "        scheduler = None\n",
    "        if cycle_len != None:\n",
    "            scheduler = self.__createSGDRScheduler(optimizer, len(self.data.train_dl.dataset), cycle_len, cycle_mult)\n",
    "            \n",
    "        self.model, recorder = self.__train(optimizer, criterion, scheduler, num_cycle, cycle_len, cycle_mult)\n",
    "        return self.model, recorder\n",
    "    \n",
    "    def __train(self, optimizer, criterion, scheduler,  num_cycle, cycle_len=None, cycle_mult=1):\n",
    "        since = time.time()\n",
    "        use_gpu = torch.cuda.is_available()\n",
    "        \n",
    "        dataloaders = { 'train': self.data.train_dl,\n",
    "                        'valid': self.data.valid_dl }\n",
    "        \n",
    "        recorder = { 'train': Recorder(),\n",
    "                     'valid': Recorder() }\n",
    "    \n",
    "        lr = optimizer.param_groups[0]['lr']\n",
    "        epoch = 0\n",
    "        num_cycle_epoch = 1\n",
    "        \n",
    "        if (scheduler):\n",
    "            scheduler.step()\n",
    "        self.print_stats_header()\n",
    "        \n",
    "        for cycle in range(num_cycle):\n",
    "            if cycle_len != None:\n",
    "                num_cycle_epoch = cycle_len*cycle_mult**cycle\n",
    "                \n",
    "            for cycle_epoch in range(num_cycle_epoch):\n",
    "                for phase in ['train', 'valid']:\n",
    "                    if phase == 'train':\n",
    "                        self.model.train(True)\n",
    "                    else:\n",
    "                        self.model.train(False)\n",
    "\n",
    "                    pbar = self.create_batch_progressbar(dataloaders[phase], epoch, phase)\n",
    "                    for inputs, labels in pbar:\n",
    "                        if use_gpu:\n",
    "                            inputs, labels = inputs.cuda(), labels.cuda()\n",
    "                        inputs, labels = Variable(inputs), Variable(labels)\n",
    "\n",
    "                        optimizer.zero_grad()\n",
    "\n",
    "                        outputs = self.model(inputs)\n",
    "                        _, preds = torch.max(outputs.data, 1)\n",
    "                        loss = criterion(outputs, labels)\n",
    "\n",
    "                        if phase == 'train':\n",
    "                            loss.backward()\n",
    "                            optimizer.step()\n",
    "                            if (scheduler):\n",
    "                                lr = scheduler.get_lr()\n",
    "                                scheduler.step()\n",
    "\n",
    "                        batch_loss = loss.data[0]\n",
    "                        batch_corrects = torch.sum(preds == labels.data).item()\n",
    "                        batch_data_size = inputs.data.size(0)\n",
    "                        \n",
    "                        recorder[phase].on_batch_end(batch_loss,\n",
    "                                                     batch_corrects,\n",
    "                                                     batch_data_size,\n",
    "                                                     lr)\n",
    "                        self.update_batch_progressbar(pbar, recorder[phase], phase)\n",
    "                        \n",
    "                    recorder[phase].on_epoch_end()\n",
    "                \n",
    "                self.print_stats(cycle, epoch, recorder)\n",
    "                epoch += 1\n",
    "                \n",
    "            recorder['valid'].on_cycle_end(self.model)\n",
    "                \n",
    "        return self.model, recorder;\n",
    "    \n",
    "    def predict(self, test_dl=None):\n",
    "        if test_dl is None and self.data.test_dl is None:\n",
    "            print('No test dataset')\n",
    "            return\n",
    "        \n",
    "        if test_dl is None:\n",
    "            test_dl = self.data.test_dl\n",
    "            \n",
    "        since = time.time()\n",
    "        use_gpu = torch.cuda.is_available()\n",
    "        self.model.train(False)\n",
    "        result = None\n",
    "        \n",
    "        for inputs in tqdm(test_dl):\n",
    "            if use_gpu:\n",
    "                inputs = inputs.cuda()\n",
    "            inputs = Variable(inputs, volatile=True, requires_grad=False)\n",
    "\n",
    "            outputs = self.model(inputs)\n",
    "            if result is None:\n",
    "                result = outputs\n",
    "            else:\n",
    "                result = torch.cat((result, outputs))\n",
    "                \n",
    "        if use_gpu:\n",
    "            result = result.data.cpu()\n",
    "        return result.numpy()\n",
    "        \n",
    "    def __createSGDRScheduler(self, optimizer, dataset_len, cycle_len, cycle_mult=1):\n",
    "        iter_per_epoch =  np.ceil(dataset_len / self.data.bs)\n",
    "        SGDRlambda = self.__getCosineAnnealingLambda(iter_per_epoch*cycle_len, cycle_mult)\n",
    "        cos_lambda_scheduler = lr_scheduler.LambdaLR(optimizer, lr_lambda=SGDRlambda)\n",
    "        return cos_lambda_scheduler\n",
    "    \n",
    "    def __getCosineAnnealingLambda(self, cycle_len, cycle_mult=1):\n",
    "        if cycle_mult == 1:\n",
    "            return lambda i: 1 / 2 * (1 + np.cos(np.pi*(i % cycle_len) / cycle_len))\n",
    "\n",
    "        power = lambda i: np.floor(numpy_log((i)/cycle_len*(cycle_mult-1)+1, cycle_mult))\n",
    "        period = lambda i: cycle_len * (cycle_mult ** power(i))\n",
    "        psum = lambda i: cycle_len*(cycle_mult**(power(i))-1)/(cycle_mult-1)\n",
    "        current = lambda i:  (1 + (i-psum(i)-1)) % period(i)\n",
    "        getLr = lambda i: 1 / 2 * (1 + np.cos(np.pi*current(i) / period(i)))\n",
    "        return getLr\n",
    "    \n",
    "    def create_batch_progressbar(self, dataloader, epoch, phase):\n",
    "        return tqdm(dataloader, file=sys.stdout, leave=False, desc='Epoch:[{}]|{}|'.format(epoch, phase))\n",
    "    \n",
    "    def update_batch_progressbar(self, progess_bar, recorder, phase):\n",
    "        progess_bar.set_postfix_str('|{}| Loss: {:.4f}, Acc: {:.4f}'\n",
    "                             .format(phase, recorder.current_loss[-1], recorder.current_corrects[-1]))\n",
    "        \n",
    "    def print_stats(self, cycle, epoch, recorder):\n",
    "        print('{:5d}  {:5d}  {:10.7f}  {:9.7f}  {:10.7f}  {:9.7f}'\n",
    "              .format(cycle, epoch,\n",
    "               recorder['train'].current_loss[-1], recorder['train'].current_corrects[-1], \n",
    "               recorder['valid'].current_loss[-1], recorder['valid'].current_corrects[-1]))\n",
    "        \n",
    "    def print_stats_header(self):\n",
    "        print('{:5s}  {:5s}  {:10s}  {:9s}  {:10s}  {:9s}'\n",
    "              .format('Cycle', 'Epoch', 'Train_Loss', 'Train_Acc', 'Valid_Loss', 'Valid_Acc'))\n",
    "        "
   ]
  },
  {
   "cell_type": "code",
   "execution_count": 12,
   "metadata": {},
   "outputs": [],
   "source": [
    "arch = SENet18().cuda()\n"
   ]
  },
  {
   "cell_type": "code",
   "execution_count": 13,
   "metadata": {},
   "outputs": [],
   "source": [
    "learn = Learner(arch)"
   ]
  },
  {
   "cell_type": "code",
   "execution_count": 14,
   "metadata": {},
   "outputs": [],
   "source": [
    "learn.load_model(f'{PATH}weights/learner_snet_1.pt')"
   ]
  },
  {
   "cell_type": "code",
   "execution_count": 16,
   "metadata": {},
   "outputs": [
    {
     "name": "stdout",
     "output_type": "stream",
     "text": [
      "Cycle  Epoch  Train_Loss  Train_Acc  Valid_Loss  Valid_Acc\n",
      "Epoch:[0]|train|:   0%|          | 1/313 [00:00<01:37,  3.20it/s, |train| Loss: 0.0000, Acc: 1.0000]"
     ]
    },
    {
     "name": "stderr",
     "output_type": "stream",
     "text": [
      "/opt/conda/envs/fastai/lib/python3.6/site-packages/ipykernel_launcher.py:113: UserWarning: invalid index of a 0-dim tensor. This will be an error in PyTorch 0.5. Use tensor.item() to convert a 0-dim tensor to a Python number\n"
     ]
    },
    {
     "name": "stdout",
     "output_type": "stream",
     "text": [
      "    0      0   0.0000108  0.9999500   0.0021439  0.9333000                                            \n",
      "    1      1   0.0000110  0.9999750   0.0022012  0.9324000                                            \n",
      "    1      2   0.0000122  0.9998750   0.0021750  0.9328000                                            \n",
      "    2      3   0.0000102  1.0000000   0.0021456  0.9326000                                            \n",
      "    2      4   0.0000108  0.9999750   0.0021658  0.9323000                                            \n",
      "    2      5   0.0000120  0.9998750   0.0021598  0.9320000                                            \n",
      "    2      6   0.0000097  1.0000000   0.0021828  0.9332000                                            \n",
      "    3      7   0.0000116  0.9998500   0.0021528  0.9320000                                            \n",
      "    3      8   0.0000118  0.9999000   0.0021478  0.9317000                                            \n",
      "    3      9   0.0000101  1.0000000   0.0021495  0.9328000                                            \n",
      "    3     10   0.0000116  0.9999500   0.0021478  0.9319000                                             \n",
      "    3     11   0.0000105  0.9999000   0.0021386  0.9331000                                             \n",
      "    3     12   0.0000109  0.9999250   0.0021849  0.9320000                                             \n",
      "    3     13   0.0000097  0.9999750   0.0021570  0.9322000                                             \n",
      "    3     14   0.0000102  1.0000000   0.0021471  0.9318000                                             \n"
     ]
    }
   ],
   "source": [
    "data_labels = pd.read_csv(f'{PATH}trainLabels.csv')\n",
    "learn.set_data(get_data(data_labels, f'{PATH}train', 32, 128, test_dir=f'{PATH}test'))\n",
    "\n",
    "lr = 1e-3\n",
    "wd = 5e-4\n",
    "#model, recorder = learn.fit(lr, 3, cycle_len=1, cycle_mult=2, momentum=0.9, wd=wd)\n",
    "model, recorder = learn.fit(lr, 4, cycle_len=1, cycle_mult=2, momentum=0.9, wd=wd)"
   ]
  },
  {
   "cell_type": "code",
   "execution_count": 16,
   "metadata": {},
   "outputs": [
    {
     "data": {
      "text/plain": [
       "[0.9326, 0.9316, 0.9321, 0.9329]"
      ]
     },
     "execution_count": 16,
     "metadata": {},
     "output_type": "execute_result"
    }
   ],
   "source": [
    "[m['accuracy'] for m in recorder['valid'].model_snapshots]\n",
    "#model.training"
   ]
  },
  {
   "cell_type": "code",
   "execution_count": 17,
   "metadata": {},
   "outputs": [],
   "source": [
    "learn.save_model(f'{PATH}weights/learner_snet_1.pt')"
   ]
  },
  {
   "cell_type": "code",
   "execution_count": 18,
   "metadata": {
    "scrolled": true
   },
   "outputs": [
    {
     "data": {
      "text/plain": [
       "[<matplotlib.lines.Line2D at 0x7fe454978080>]"
      ]
     },
     "execution_count": 18,
     "metadata": {},
     "output_type": "execute_result"
    },
    {
     "data": {
      "image/png": "[encoded data removed]",
      "text/plain": [
       "<Figure size 432x288 with 1 Axes>"
      ]
     },
     "metadata": {},
     "output_type": "display_data"
    }
   ],
   "source": [
    "fig = plt.figure()\n",
    "plt.xlabel(\"iterations\")\n",
    "plt.ylabel(\"learning rate\")\n",
    "plt.plot(np.arange(0, len(recorder['train'].lr),1), recorder['train'].lr)"
   ]
  },
  {
   "cell_type": "code",
   "execution_count": 19,
   "metadata": {},
   "outputs": [
    {
     "data": {
      "text/plain": [
       "[<matplotlib.lines.Line2D at 0x7fe4549456d8>]"
      ]
     },
     "execution_count": 19,
     "metadata": {},
     "output_type": "execute_result"
    },
    {
     "data": {
      "image/png": "[encoded data removed]",
      "text/plain": [
       "<Figure size 432x288 with 1 Axes>"
      ]
     },
     "metadata": {},
     "output_type": "display_data"
    }
   ],
   "source": [
    "fig = plt.figure()\n",
    "plt.xlabel(\"iterations\")\n",
    "plt.ylabel(\"Loss\")\n",
    "plt.plot(np.arange(0, len(recorder['valid'].current_loss),1), recorder['valid'].current_loss)"
   ]
  },
  {
   "cell_type": "markdown",
   "metadata": {},
   "source": [
    "# Snapshot Ensemble"
   ]
  },
  {
   "cell_type": "code",
   "execution_count": 48,
   "metadata": {},
   "outputs": [
    {
     "name": "stderr",
     "output_type": "stream",
     "text": [
      "100%|██████████| 2344/2344 [00:54<00:00, 43.30it/s]\n",
      "100%|██████████| 2344/2344 [00:54<00:00, 43.01it/s]\n",
      "100%|██████████| 2344/2344 [00:54<00:00, 42.78it/s]\n",
      "100%|██████████| 2344/2344 [00:54<00:00, 42.63it/s]\n"
     ]
    }
   ],
   "source": [
    "log_pred_list = []\n",
    "\n",
    "model_list = [m['state_dict'] for m in recorder['valid'].model_snapshots]\n",
    "for m in model_list:\n",
    "    learn.model.load_state_dict(m)\n",
    "    log_pred = learn.predict()\n",
    "    log_pred_list.append(log_pred)    "
   ]
  },
  {
   "cell_type": "code",
   "execution_count": 49,
   "metadata": {},
   "outputs": [],
   "source": [
    "log_pred = np.mean(log_pred_list, 0)"
   ]
  },
  {
   "cell_type": "code",
   "execution_count": 50,
   "metadata": {},
   "outputs": [],
   "source": [
    "probs = np.exp(log_pred)\n",
    "pred = np.argmax(probs, 1)\n",
    "result = np.array(classes)[pred]"
   ]
  },
  {
   "cell_type": "code",
   "execution_count": 51,
   "metadata": {},
   "outputs": [],
   "source": [
    "df = pd.DataFrame(result, columns=['label'])\n",
    "df.insert(0, 'id', [f[:-4] for f in test_ds.filenames])"
   ]
  },
  {
   "cell_type": "code",
   "execution_count": 52,
   "metadata": {},
   "outputs": [
    {
     "data": {
      "text/html": [
       "<div>\n",
       "<style scoped>\n",
       "    .dataframe tbody tr th:only-of-type {\n",
       "        vertical-align: middle;\n",
       "    }\n",
       "\n",
       "    .dataframe tbody tr th {\n",
       "        vertical-align: top;\n",
       "    }\n",
       "\n",
       "    .dataframe thead th {\n",
       "        text-align: right;\n",
       "    }\n",
       "</style>\n",
       "<table border=\"1\" class=\"dataframe\">\n",
       "  <thead>\n",
       "    <tr style=\"text-align: right;\">\n",
       "      <th></th>\n",
       "      <th>id</th>\n",
       "      <th>label</th>\n",
       "    </tr>\n",
       "  </thead>\n",
       "  <tbody>\n",
       "    <tr>\n",
       "      <th>0</th>\n",
       "      <td>152776</td>\n",
       "      <td>cat</td>\n",
       "    </tr>\n",
       "    <tr>\n",
       "      <th>1</th>\n",
       "      <td>2537</td>\n",
       "      <td>frog</td>\n",
       "    </tr>\n",
       "    <tr>\n",
       "      <th>2</th>\n",
       "      <td>15821</td>\n",
       "      <td>dog</td>\n",
       "    </tr>\n",
       "    <tr>\n",
       "      <th>3</th>\n",
       "      <td>281503</td>\n",
       "      <td>truck</td>\n",
       "    </tr>\n",
       "    <tr>\n",
       "      <th>4</th>\n",
       "      <td>204930</td>\n",
       "      <td>cat</td>\n",
       "    </tr>\n",
       "  </tbody>\n",
       "</table>\n",
       "</div>"
      ],
      "text/plain": [
       "       id  label\n",
       "0  152776    cat\n",
       "1    2537   frog\n",
       "2   15821    dog\n",
       "3  281503  truck\n",
       "4  204930    cat"
      ]
     },
     "execution_count": 52,
     "metadata": {},
     "output_type": "execute_result"
    }
   ],
   "source": [
    "df.head()"
   ]
  },
  {
   "cell_type": "code",
   "execution_count": 53,
   "metadata": {},
   "outputs": [],
   "source": [
    "SUBM = f'{PATH}sub/'\n",
    "os.makedirs(SUBM, exist_ok=True)\n",
    "df.to_csv(f'{SUBM}subm.csv', compression=None, index=False)"
   ]
  },
  {
   "cell_type": "code",
   "execution_count": 54,
   "metadata": {},
   "outputs": [
    {
     "data": {
      "text/html": [
       "<a href='/data/cifar10_kaggle/sub/subm.csv' target='_blank'>/data/cifar10_kaggle/sub/subm.csv</a><br>"
      ],
      "text/plain": [
       "/data/cifar10_kaggle/sub/subm.csv"
      ]
     },
     "execution_count": 54,
     "metadata": {},
     "output_type": "execute_result"
    }
   ],
   "source": [
    "from IPython.lib.display import FileLink\n",
    "FileLink(f'{SUBM}subm.csv')"
   ]
  },
  {
   "cell_type": "markdown",
   "metadata": {},
   "source": [
    "# Train with increasing data size"
   ]
  },
  {
   "cell_type": "code",
   "execution_count": 15,
   "metadata": {},
   "outputs": [
    {
     "name": "stdout",
     "output_type": "stream",
     "text": [
      "Train with size=4:\n",
      "Cycle  Epoch  Train_Loss  Train_Acc  Valid_Loss  Valid_Acc\n",
      "    0      0   0.0132488  0.3915500   0.0121044  0.4492000                                            \n",
      "    1      1   0.0120223  0.4496750   0.0114735  0.4766000                                            \n",
      "    1      2   0.0107280  0.5170000   0.0109097  0.5030000                                            \n",
      "    2      3   0.0111773  0.4910250   0.0112382  0.4867000                                            \n",
      "    2      4   0.0104701  0.5236750   0.0108159  0.5069000                                            \n",
      "    2      5   0.0096884  0.5616500   0.0103509  0.5332000                                            \n",
      "    2      6   0.0090388  0.5929250   0.0102487  0.5364000                                            \n",
      "    3      7   0.0103346  0.5298000   0.0109029  0.5054000                                            \n",
      "    3      8   0.0099173  0.5515000   0.0106346  0.5236000                                            \n",
      "    3      9   0.0094319  0.5717000   0.0103655  0.5342000                                            \n",
      "    3     10   0.0089613  0.5936750   0.0102737  0.5401000                                             \n",
      "    3     11   0.0083715  0.6214750   0.0102337  0.5420000                                             \n",
      "    3     12   0.0077672  0.6483500   0.0101794  0.5540000                                             \n",
      "    3     13   0.0071511  0.6796250   0.0102216  0.5530000                                             \n",
      "    3     14   0.0067467  0.6979250   0.0102005  0.5581000                                             \n",
      "============================================================\n",
      "Train with size=8:\n",
      "Cycle  Epoch  Train_Loss  Train_Acc  Valid_Loss  Valid_Acc\n",
      "    0      0   0.0119557  0.4426750   0.0103390  0.5219000                                            \n",
      "    1      1   0.0108769  0.4976500   0.0099501  0.5428000                                            \n",
      "    1      2   0.0096594  0.5565500   0.0091980  0.5720000                                            \n",
      "    2      3   0.0101520  0.5321750   0.0097074  0.5517000                                            \n",
      "    2      4   0.0094521  0.5686750   0.0090211  0.5874000                                            \n",
      "    2      5   0.0087149  0.6008000   0.0083450  0.6169000                                            \n",
      "    2      6   0.0081843  0.6285750   0.0082107  0.6230000                                            \n",
      "    3      7   0.0092200  0.5815250   0.0089964  0.5892000                                            \n",
      "    3      8   0.0088885  0.5963000   0.0087356  0.6048000                                            \n",
      "    3      9   0.0084834  0.6132750   0.0083954  0.6216000                                            \n",
      "    3     10   0.0080033  0.6397000   0.0079731  0.6380000                                             \n",
      "    3     11   0.0076173  0.6554250   0.0077498  0.6507000                                             \n",
      "    3     12   0.0072308  0.6715250   0.0075575  0.6551000                                             \n",
      "    3     13   0.0069195  0.6869250   0.0073272  0.6710000                                             \n",
      "    3     14   0.0067293  0.6963750   0.0072886  0.6702000                                             \n",
      "============================================================\n",
      "Train with size=16:\n",
      "Cycle  Epoch  Train_Loss  Train_Acc  Valid_Loss  Valid_Acc\n",
      "    0      0   0.0093048  0.5760500   0.0085865  0.6105000                                            \n",
      "    1      1   0.0080084  0.6352000   0.0075219  0.6539000                                            \n",
      "    1      2   0.0073966  0.6660000   0.0072740  0.6662000                                            \n",
      "    2      3   0.0072068  0.6725250   0.0069230  0.6887000                                            \n",
      "    2      4   0.0067057  0.6949750   0.0065267  0.7052000                                            \n",
      "    2      5   0.0064322  0.7100250   0.0063474  0.7130000                                            \n",
      "    2      6   0.0062855  0.7186750   0.0063239  0.7146000                                            \n",
      "    3      7   0.0063355  0.7166500   0.0062410  0.7203000                                            \n",
      "    3      8   0.0060801  0.7257250   0.0061330  0.7217000                                            \n",
      "    3      9   0.0058206  0.7395250   0.0058527  0.7359000                                            \n",
      "    3     10   0.0056462  0.7479750   0.0056955  0.7450000                                             \n",
      "    3     11   0.0054607  0.7582000   0.0056049  0.7467000                                             \n",
      "    3     12   0.0053034  0.7637750   0.0055082  0.7524000                                             \n",
      "    3     13   0.0052272  0.7685500   0.0055428  0.7565000                                             \n",
      "    3     14   0.0051850  0.7686500   0.0055332  0.7537000                                             \n",
      "============================================================\n",
      "Train with size=32:\n",
      "Cycle  Epoch  Train_Loss  Train_Acc  Valid_Loss  Valid_Acc\n",
      "    0      0   0.0060418  0.7308000   0.0056295  0.7505000                                            \n",
      "    1      1   0.0054268  0.7583750   0.0054149  0.7586000                                            \n",
      "    1      2   0.0048207  0.7853500   0.0048590  0.7835000                                            \n",
      "    2      3   0.0048498  0.7856500   0.0050685  0.7700000                                            \n",
      "    2      4   0.0043907  0.8057250   0.0046179  0.7956000                                            \n",
      "    2      5   0.0040458  0.8219250   0.0041872  0.8138000                                            \n",
      "    2      6   0.0038837  0.8286250   0.0041605  0.8161000                                            \n",
      "    3      7   0.0041386  0.8175750   0.0046946  0.7925000                                            \n",
      "    3      8   0.0039209  0.8284000   0.0042874  0.8117000                                            \n",
      "    3      9   0.0036578  0.8386250   0.0039300  0.8263000                                            \n",
      "    3     10   0.0034210  0.8499500   0.0040333  0.8218000                                             \n",
      "    3     11   0.0032421  0.8571000   0.0036937  0.8332000                                             \n",
      "    3     12   0.0031042  0.8651250   0.0035643  0.8428000                                             \n",
      "    3     13   0.0029863  0.8700000   0.0035140  0.8442000                                             \n",
      "    3     14   0.0029391  0.8697250   0.0035188  0.8418000                                             \n",
      "============================================================\n"
     ]
    }
   ],
   "source": [
    "bs=128\n",
    "data_sizes = [4, 8, 16, 32]\n",
    "lrs = [1e-2, 1e-2, 1e-3, 1e-3]\n",
    "wd = 5e-4\n",
    "momentum = 0.9\n",
    "\n",
    "data_labels = pd.read_csv(f'{PATH}trainLabels.csv')\n",
    "\n",
    "arch = SENet18().cuda()\n",
    "learn = Learner(arch)\n",
    "\n",
    "for sz,lr in zip(data_sizes, lrs):\n",
    "    print(f'Train with size={sz}:')\n",
    "    learn.set_data(get_data(data_labels, f'{PATH}train', sz, bs, test_dir=f'{PATH}test'))\n",
    "    learn.fit(lr, 4, cycle_len=1, cycle_mult=2, momentum=momentum, wd=wd)\n",
    "    print(f'============================================================')\n"
   ]
  },
  {
   "cell_type": "code",
   "execution_count": 17,
   "metadata": {},
   "outputs": [
    {
     "name": "stdout",
     "output_type": "stream",
     "text": [
      "Cycle  Epoch  Train_Loss  Train_Acc  Valid_Loss  Valid_Acc\n",
      "    0      0   0.0018149  0.9175000   0.0032819  0.8644000                                            \n",
      "    0      1   0.0014175  0.9381750   0.0027748  0.8828000                                            \n",
      "    1      2   0.0017943  0.9205500   0.0032664  0.8666000                                            \n",
      "    1      3   0.0016013  0.9283250   0.0030878  0.8727000                                            \n",
      "    1      4   0.0013458  0.9425000   0.0027689  0.8868000                                            \n",
      "    1      5   0.0011844  0.9497250   0.0027293  0.8874000                                            \n",
      "    2      6   0.0016768  0.9246750   0.0034665  0.8622000                                            \n",
      "    2      7   0.0015848  0.9283250   0.0032825  0.8678000                                            \n",
      "    2      8   0.0014710  0.9334500   0.0036519  0.8563000                                            \n",
      "    2      9   0.0012953  0.9424000   0.0030898  0.8754000                                            \n",
      "    2     10   0.0011451  0.9509250   0.0030091  0.8815000                                             \n",
      "    2     11   0.0010247  0.9563250   0.0027665  0.8894000                                             \n",
      "    2     12   0.0009487  0.9599250   0.0027337  0.8878000                                             \n",
      "    2     13   0.0009160  0.9610250   0.0027173  0.8896000                                             \n",
      "    3     14   0.0014381  0.9348500   0.0036731  0.8562000                                             \n",
      "    3     15   0.0014225  0.9377750   0.0034890  0.8679000                                             \n",
      "    3     16   0.0013666  0.9389000   0.0032778  0.8743000                                             \n",
      "    3     17   0.0012510  0.9428000   0.0033745  0.8702000                                             \n",
      "    3     18   0.0011568  0.9478750   0.0032936  0.8745000                                             \n",
      "    3     19   0.0011137  0.9491500   0.0031829  0.8770000                                             \n",
      "    3     20   0.0009740  0.9574250   0.0030778  0.8854000                                             \n",
      "    3     21   0.0008919  0.9610250   0.0031526  0.8812000                                             \n",
      "    3     22   0.0008271  0.9642250   0.0030515  0.8869000                                             \n",
      "    3     23   0.0007478  0.9683500   0.0029457  0.8910000                                             \n",
      "    3     24   0.0006667  0.9723250   0.0028827  0.8892000                                             \n",
      "    3     25   0.0006428  0.9729750   0.0028536  0.8920000                                             \n",
      "    3     26   0.0005973  0.9751500   0.0028346  0.8943000                                             \n",
      "    3     27   0.0005751  0.9766000   0.0028243  0.8937000                                             \n",
      "    3     28   0.0005520  0.9785000   0.0028207  0.8939000                                             \n",
      "    3     29   0.0005377  0.9789500   0.0028314  0.8942000                                             \n"
     ]
    },
    {
     "data": {
      "text/plain": [
       "(SENet(\n",
       "   (conv1): Conv2d(3, 64, kernel_size=(3, 3), stride=(1, 1), padding=(1, 1), bias=False)\n",
       "   (bn1): BatchNorm2d(64, eps=1e-05, momentum=0.1, affine=True)\n",
       "   (layer1): Sequential(\n",
       "     (0): PreActBlock(\n",
       "       (bn1): BatchNorm2d(64, eps=1e-05, momentum=0.1, affine=True)\n",
       "       (conv1): Conv2d(64, 64, kernel_size=(3, 3), stride=(1, 1), padding=(1, 1), bias=False)\n",
       "       (bn2): BatchNorm2d(64, eps=1e-05, momentum=0.1, affine=True)\n",
       "       (conv2): Conv2d(64, 64, kernel_size=(3, 3), stride=(1, 1), padding=(1, 1), bias=False)\n",
       "       (fc1): Conv2d(64, 4, kernel_size=(1, 1), stride=(1, 1))\n",
       "       (fc2): Conv2d(4, 64, kernel_size=(1, 1), stride=(1, 1))\n",
       "     )\n",
       "     (1): PreActBlock(\n",
       "       (bn1): BatchNorm2d(64, eps=1e-05, momentum=0.1, affine=True)\n",
       "       (conv1): Conv2d(64, 64, kernel_size=(3, 3), stride=(1, 1), padding=(1, 1), bias=False)\n",
       "       (bn2): BatchNorm2d(64, eps=1e-05, momentum=0.1, affine=True)\n",
       "       (conv2): Conv2d(64, 64, kernel_size=(3, 3), stride=(1, 1), padding=(1, 1), bias=False)\n",
       "       (fc1): Conv2d(64, 4, kernel_size=(1, 1), stride=(1, 1))\n",
       "       (fc2): Conv2d(4, 64, kernel_size=(1, 1), stride=(1, 1))\n",
       "     )\n",
       "   )\n",
       "   (layer2): Sequential(\n",
       "     (0): PreActBlock(\n",
       "       (bn1): BatchNorm2d(64, eps=1e-05, momentum=0.1, affine=True)\n",
       "       (conv1): Conv2d(64, 128, kernel_size=(3, 3), stride=(2, 2), padding=(1, 1), bias=False)\n",
       "       (bn2): BatchNorm2d(128, eps=1e-05, momentum=0.1, affine=True)\n",
       "       (conv2): Conv2d(128, 128, kernel_size=(3, 3), stride=(1, 1), padding=(1, 1), bias=False)\n",
       "       (shortcut): Sequential(\n",
       "         (0): Conv2d(64, 128, kernel_size=(1, 1), stride=(2, 2), bias=False)\n",
       "       )\n",
       "       (fc1): Conv2d(128, 8, kernel_size=(1, 1), stride=(1, 1))\n",
       "       (fc2): Conv2d(8, 128, kernel_size=(1, 1), stride=(1, 1))\n",
       "     )\n",
       "     (1): PreActBlock(\n",
       "       (bn1): BatchNorm2d(128, eps=1e-05, momentum=0.1, affine=True)\n",
       "       (conv1): Conv2d(128, 128, kernel_size=(3, 3), stride=(1, 1), padding=(1, 1), bias=False)\n",
       "       (bn2): BatchNorm2d(128, eps=1e-05, momentum=0.1, affine=True)\n",
       "       (conv2): Conv2d(128, 128, kernel_size=(3, 3), stride=(1, 1), padding=(1, 1), bias=False)\n",
       "       (fc1): Conv2d(128, 8, kernel_size=(1, 1), stride=(1, 1))\n",
       "       (fc2): Conv2d(8, 128, kernel_size=(1, 1), stride=(1, 1))\n",
       "     )\n",
       "   )\n",
       "   (layer3): Sequential(\n",
       "     (0): PreActBlock(\n",
       "       (bn1): BatchNorm2d(128, eps=1e-05, momentum=0.1, affine=True)\n",
       "       (conv1): Conv2d(128, 256, kernel_size=(3, 3), stride=(2, 2), padding=(1, 1), bias=False)\n",
       "       (bn2): BatchNorm2d(256, eps=1e-05, momentum=0.1, affine=True)\n",
       "       (conv2): Conv2d(256, 256, kernel_size=(3, 3), stride=(1, 1), padding=(1, 1), bias=False)\n",
       "       (shortcut): Sequential(\n",
       "         (0): Conv2d(128, 256, kernel_size=(1, 1), stride=(2, 2), bias=False)\n",
       "       )\n",
       "       (fc1): Conv2d(256, 16, kernel_size=(1, 1), stride=(1, 1))\n",
       "       (fc2): Conv2d(16, 256, kernel_size=(1, 1), stride=(1, 1))\n",
       "     )\n",
       "     (1): PreActBlock(\n",
       "       (bn1): BatchNorm2d(256, eps=1e-05, momentum=0.1, affine=True)\n",
       "       (conv1): Conv2d(256, 256, kernel_size=(3, 3), stride=(1, 1), padding=(1, 1), bias=False)\n",
       "       (bn2): BatchNorm2d(256, eps=1e-05, momentum=0.1, affine=True)\n",
       "       (conv2): Conv2d(256, 256, kernel_size=(3, 3), stride=(1, 1), padding=(1, 1), bias=False)\n",
       "       (fc1): Conv2d(256, 16, kernel_size=(1, 1), stride=(1, 1))\n",
       "       (fc2): Conv2d(16, 256, kernel_size=(1, 1), stride=(1, 1))\n",
       "     )\n",
       "   )\n",
       "   (layer4): Sequential(\n",
       "     (0): PreActBlock(\n",
       "       (bn1): BatchNorm2d(256, eps=1e-05, momentum=0.1, affine=True)\n",
       "       (conv1): Conv2d(256, 512, kernel_size=(3, 3), stride=(2, 2), padding=(1, 1), bias=False)\n",
       "       (bn2): BatchNorm2d(512, eps=1e-05, momentum=0.1, affine=True)\n",
       "       (conv2): Conv2d(512, 512, kernel_size=(3, 3), stride=(1, 1), padding=(1, 1), bias=False)\n",
       "       (shortcut): Sequential(\n",
       "         (0): Conv2d(256, 512, kernel_size=(1, 1), stride=(2, 2), bias=False)\n",
       "       )\n",
       "       (fc1): Conv2d(512, 32, kernel_size=(1, 1), stride=(1, 1))\n",
       "       (fc2): Conv2d(32, 512, kernel_size=(1, 1), stride=(1, 1))\n",
       "     )\n",
       "     (1): PreActBlock(\n",
       "       (bn1): BatchNorm2d(512, eps=1e-05, momentum=0.1, affine=True)\n",
       "       (conv1): Conv2d(512, 512, kernel_size=(3, 3), stride=(1, 1), padding=(1, 1), bias=False)\n",
       "       (bn2): BatchNorm2d(512, eps=1e-05, momentum=0.1, affine=True)\n",
       "       (conv2): Conv2d(512, 512, kernel_size=(3, 3), stride=(1, 1), padding=(1, 1), bias=False)\n",
       "       (fc1): Conv2d(512, 32, kernel_size=(1, 1), stride=(1, 1))\n",
       "       (fc2): Conv2d(32, 512, kernel_size=(1, 1), stride=(1, 1))\n",
       "     )\n",
       "   )\n",
       "   (linear): Linear(in_features=512, out_features=10, bias=True)\n",
       " ),\n",
       " {'train': <__main__.Recorder at 0x7f802402b0f0>,\n",
       "  'valid': <__main__.Recorder at 0x7f8010101198>})"
      ]
     },
     "execution_count": 17,
     "metadata": {},
     "output_type": "execute_result"
    }
   ],
   "source": [
    "learn.set_data(get_data(data_labels, f'{PATH}train', 32, 128, test_dir=f'{PATH}test'))\n",
    "learn.fit(1e-3, 4, cycle_len=2, cycle_mult=2, momentum=0.9, wd=5e-4)"
   ]
  },
  {
   "cell_type": "code",
   "execution_count": 18,
   "metadata": {},
   "outputs": [],
   "source": [
    "data_labels = pd.read_csv(f'{PATH}trainLabels.csv')\n",
    "\n",
    "arch = SENet18().cuda()\n",
    "learn = Learner(arch)"
   ]
  },
  {
   "cell_type": "code",
   "execution_count": 35,
   "metadata": {},
   "outputs": [
    {
     "name": "stdout",
     "output_type": "stream",
     "text": [
      "Cycle  Epoch  Train_Loss  Train_Acc  Valid_Loss  Valid_Acc\n",
      "    0      0   0.0010415  0.9534000   0.0027510  0.8922000                                            \n",
      "    0      1   0.0006099  0.9736750   0.0021180  0.9138000                                            \n",
      "    0      2   0.0003091  0.9882500   0.0019953  0.9217000                                            \n",
      "    1      3   0.0009698  0.9563750   0.0032026  0.8790000                                            \n",
      "    1      4   0.0005687  0.9751500   0.0021127  0.9173000                                            \n",
      "    1      5   0.0002866  0.9887500   0.0020613  0.9231000                                            \n",
      "    2      6   0.0009438  0.9566750   0.0028237  0.8942000                                            \n",
      "    2      7   0.0005389  0.9769750   0.0021376  0.9179000                                            \n",
      "    2      8   0.0002600  0.9910750   0.0020852  0.9228000                                            \n"
     ]
    }
   ],
   "source": [
    "learn.set_data(get_data(data_labels, f'{PATH}train', 32, 128, test_dir=f'{PATH}test'))\n",
    "model, recorder = learn.fit(1e-2, 3, cycle_len=3, cycle_mult=1, momentum=0.9, wd=5e-4)"
   ]
  },
  {
   "cell_type": "code",
   "execution_count": 43,
   "metadata": {},
   "outputs": [
    {
     "data": {
      "text/plain": [
       "[0.9217, 0.9231, 0.9228]"
      ]
     },
     "execution_count": 43,
     "metadata": {},
     "output_type": "execute_result"
    }
   ],
   "source": [
    "[m['accuracy'] for m in recorder['valid'].model_snapshots]\n",
    "#model.training"
   ]
  },
  {
   "cell_type": "markdown",
   "metadata": {},
   "source": [
    "It seems by using this method, the model is less likely to overfit than keep the same size throughtout the training process. The training loss and valid loss are more likely to improve on same pace. However, if we try to push our valid accuracy by overfitting our model, we would still get similar result as traditional method. "
   ]
  },
  {
   "cell_type": "code",
   "execution_count": null,
   "metadata": {},
   "outputs": [],
   "source": []
  }
 ],
 "metadata": {
  "kernelspec": {
   "display_name": "Python 3",
   "language": "python",
   "name": "python3"
  },
  "language_info": {
   "codemirror_mode": {
    "name": "ipython",
    "version": 3
   },
   "file_extension": ".py",
   "mimetype": "text/x-python",
   "name": "python",
   "nbconvert_exporter": "python",
   "pygments_lexer": "ipython3",
   "version": "3.6.4"
  }
 },
 "nbformat": 4,
 "nbformat_minor": 2
}
